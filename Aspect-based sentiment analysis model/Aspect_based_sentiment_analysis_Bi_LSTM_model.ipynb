{
  "nbformat": 4,
  "nbformat_minor": 0,
  "metadata": {
    "colab": {
      "name": "Aspect_based_sentiment_analysis_Bi-LSTM_model.ipynb",
      "provenance": [],
      "collapsed_sections": [],
      "toc_visible": true,
      "machine_shape": "hm"
    },
    "kernelspec": {
      "name": "python3",
      "display_name": "Python 3"
    }
  },
  "cells": [
    {
      "cell_type": "code",
      "metadata": {
        "id": "whTNzty-fFTW",
        "colab_type": "code",
        "colab": {}
      },
      "source": [
        "from keras.layers.wrappers import Bidirectional"
      ],
      "execution_count": 1,
      "outputs": []
    },
    {
      "cell_type": "code",
      "metadata": {
        "id": "7vH_B55ooAz4",
        "colab_type": "code",
        "colab": {}
      },
      "source": [
        "import tensorflow as tf"
      ],
      "execution_count": 2,
      "outputs": []
    },
    {
      "cell_type": "code",
      "metadata": {
        "id": "la6HCGxkAhD0",
        "colab_type": "code",
        "colab": {}
      },
      "source": [
        "import pandas as pd\n",
        "import numpy as np\n",
        "from sklearn.metrics import classification_report, confusion_matrix\n",
        "from IPython.display import Image, display_png\n",
        "from gensim.models import word2vec, KeyedVectors\n",
        "from keras.models import Sequential\n",
        "from keras.layers import Input, Embedding, Dense, Dropout, Flatten, LSTM,Bidirectional,GlobalAveragePooling1D\n",
        "from keras.utils import to_categorical, plot_model\n",
        "from keras.preprocessing.sequence import pad_sequences\n",
        "from keras.optimizers import RMSprop\n",
        "import matplotlib.pyplot as plt\n",
        "plt.style.use('ggplot')"
      ],
      "execution_count": 3,
      "outputs": []
    },
    {
      "cell_type": "code",
      "metadata": {
        "id": "0v0_se-r6dms",
        "colab_type": "code",
        "colab": {
          "base_uri": "https://localhost:8080/",
          "height": 1000
        },
        "outputId": "9a41909e-5b50-4114-e9fa-39c92adf6575"
      },
      "source": [
        "!pip install contractions\n",
        "import pandas as pd\n",
        "import contractions\n",
        "import nltk\n",
        "from nltk.tokenize import word_tokenize\n",
        "nltk.download('all')\n",
        "nltk.download('averaged_perceptron_tagger')\n",
        "import spacy\n",
        "nlp = spacy.load(\"en_core_web_sm\")"
      ],
      "execution_count": 9,
      "outputs": [
        {
          "output_type": "stream",
          "text": [
            "Requirement already satisfied: contractions in /usr/local/lib/python3.6/dist-packages (0.0.25)\n",
            "Requirement already satisfied: textsearch in /usr/local/lib/python3.6/dist-packages (from contractions) (0.0.17)\n",
            "Requirement already satisfied: Unidecode in /usr/local/lib/python3.6/dist-packages (from textsearch->contractions) (1.1.1)\n",
            "Requirement already satisfied: pyahocorasick in /usr/local/lib/python3.6/dist-packages (from textsearch->contractions) (1.4.0)\n",
            "[nltk_data] Downloading collection 'all'\n",
            "[nltk_data]    | \n",
            "[nltk_data]    | Downloading package abc to /root/nltk_data...\n",
            "[nltk_data]    |   Package abc is already up-to-date!\n",
            "[nltk_data]    | Downloading package alpino to /root/nltk_data...\n",
            "[nltk_data]    |   Package alpino is already up-to-date!\n",
            "[nltk_data]    | Downloading package biocreative_ppi to\n",
            "[nltk_data]    |     /root/nltk_data...\n",
            "[nltk_data]    |   Package biocreative_ppi is already up-to-date!\n",
            "[nltk_data]    | Downloading package brown to /root/nltk_data...\n",
            "[nltk_data]    |   Package brown is already up-to-date!\n",
            "[nltk_data]    | Downloading package brown_tei to /root/nltk_data...\n",
            "[nltk_data]    |   Package brown_tei is already up-to-date!\n",
            "[nltk_data]    | Downloading package cess_cat to /root/nltk_data...\n",
            "[nltk_data]    |   Package cess_cat is already up-to-date!\n",
            "[nltk_data]    | Downloading package cess_esp to /root/nltk_data...\n",
            "[nltk_data]    |   Package cess_esp is already up-to-date!\n",
            "[nltk_data]    | Downloading package chat80 to /root/nltk_data...\n",
            "[nltk_data]    |   Package chat80 is already up-to-date!\n",
            "[nltk_data]    | Downloading package city_database to\n",
            "[nltk_data]    |     /root/nltk_data...\n",
            "[nltk_data]    |   Package city_database is already up-to-date!\n",
            "[nltk_data]    | Downloading package cmudict to /root/nltk_data...\n",
            "[nltk_data]    |   Package cmudict is already up-to-date!\n",
            "[nltk_data]    | Downloading package comparative_sentences to\n",
            "[nltk_data]    |     /root/nltk_data...\n",
            "[nltk_data]    |   Package comparative_sentences is already up-to-\n",
            "[nltk_data]    |       date!\n",
            "[nltk_data]    | Downloading package comtrans to /root/nltk_data...\n",
            "[nltk_data]    |   Package comtrans is already up-to-date!\n",
            "[nltk_data]    | Downloading package conll2000 to /root/nltk_data...\n",
            "[nltk_data]    |   Package conll2000 is already up-to-date!\n",
            "[nltk_data]    | Downloading package conll2002 to /root/nltk_data...\n",
            "[nltk_data]    |   Package conll2002 is already up-to-date!\n",
            "[nltk_data]    | Downloading package conll2007 to /root/nltk_data...\n",
            "[nltk_data]    |   Package conll2007 is already up-to-date!\n",
            "[nltk_data]    | Downloading package crubadan to /root/nltk_data...\n",
            "[nltk_data]    |   Package crubadan is already up-to-date!\n",
            "[nltk_data]    | Downloading package dependency_treebank to\n",
            "[nltk_data]    |     /root/nltk_data...\n",
            "[nltk_data]    |   Package dependency_treebank is already up-to-date!\n",
            "[nltk_data]    | Downloading package dolch to /root/nltk_data...\n",
            "[nltk_data]    |   Package dolch is already up-to-date!\n",
            "[nltk_data]    | Downloading package europarl_raw to\n",
            "[nltk_data]    |     /root/nltk_data...\n",
            "[nltk_data]    |   Package europarl_raw is already up-to-date!\n",
            "[nltk_data]    | Downloading package floresta to /root/nltk_data...\n",
            "[nltk_data]    |   Package floresta is already up-to-date!\n",
            "[nltk_data]    | Downloading package framenet_v15 to\n",
            "[nltk_data]    |     /root/nltk_data...\n",
            "[nltk_data]    |   Package framenet_v15 is already up-to-date!\n",
            "[nltk_data]    | Downloading package framenet_v17 to\n",
            "[nltk_data]    |     /root/nltk_data...\n",
            "[nltk_data]    |   Package framenet_v17 is already up-to-date!\n",
            "[nltk_data]    | Downloading package gazetteers to /root/nltk_data...\n",
            "[nltk_data]    |   Package gazetteers is already up-to-date!\n",
            "[nltk_data]    | Downloading package genesis to /root/nltk_data...\n",
            "[nltk_data]    |   Package genesis is already up-to-date!\n",
            "[nltk_data]    | Downloading package gutenberg to /root/nltk_data...\n",
            "[nltk_data]    |   Package gutenberg is already up-to-date!\n",
            "[nltk_data]    | Downloading package ieer to /root/nltk_data...\n",
            "[nltk_data]    |   Package ieer is already up-to-date!\n",
            "[nltk_data]    | Downloading package inaugural to /root/nltk_data...\n",
            "[nltk_data]    |   Package inaugural is already up-to-date!\n",
            "[nltk_data]    | Downloading package indian to /root/nltk_data...\n",
            "[nltk_data]    |   Package indian is already up-to-date!\n",
            "[nltk_data]    | Downloading package jeita to /root/nltk_data...\n",
            "[nltk_data]    |   Package jeita is already up-to-date!\n",
            "[nltk_data]    | Downloading package kimmo to /root/nltk_data...\n",
            "[nltk_data]    |   Package kimmo is already up-to-date!\n",
            "[nltk_data]    | Downloading package knbc to /root/nltk_data...\n",
            "[nltk_data]    |   Package knbc is already up-to-date!\n",
            "[nltk_data]    | Downloading package lin_thesaurus to\n",
            "[nltk_data]    |     /root/nltk_data...\n",
            "[nltk_data]    |   Package lin_thesaurus is already up-to-date!\n",
            "[nltk_data]    | Downloading package mac_morpho to /root/nltk_data...\n",
            "[nltk_data]    |   Package mac_morpho is already up-to-date!\n",
            "[nltk_data]    | Downloading package machado to /root/nltk_data...\n",
            "[nltk_data]    |   Package machado is already up-to-date!\n",
            "[nltk_data]    | Downloading package masc_tagged to /root/nltk_data...\n",
            "[nltk_data]    |   Package masc_tagged is already up-to-date!\n",
            "[nltk_data]    | Downloading package moses_sample to\n",
            "[nltk_data]    |     /root/nltk_data...\n",
            "[nltk_data]    |   Package moses_sample is already up-to-date!\n",
            "[nltk_data]    | Downloading package movie_reviews to\n",
            "[nltk_data]    |     /root/nltk_data...\n",
            "[nltk_data]    |   Package movie_reviews is already up-to-date!\n",
            "[nltk_data]    | Downloading package names to /root/nltk_data...\n",
            "[nltk_data]    |   Package names is already up-to-date!\n",
            "[nltk_data]    | Downloading package nombank.1.0 to /root/nltk_data...\n",
            "[nltk_data]    |   Package nombank.1.0 is already up-to-date!\n",
            "[nltk_data]    | Downloading package nps_chat to /root/nltk_data...\n",
            "[nltk_data]    |   Package nps_chat is already up-to-date!\n",
            "[nltk_data]    | Downloading package omw to /root/nltk_data...\n",
            "[nltk_data]    |   Package omw is already up-to-date!\n",
            "[nltk_data]    | Downloading package opinion_lexicon to\n",
            "[nltk_data]    |     /root/nltk_data...\n",
            "[nltk_data]    |   Package opinion_lexicon is already up-to-date!\n",
            "[nltk_data]    | Downloading package paradigms to /root/nltk_data...\n",
            "[nltk_data]    |   Package paradigms is already up-to-date!\n",
            "[nltk_data]    | Downloading package pil to /root/nltk_data...\n",
            "[nltk_data]    |   Package pil is already up-to-date!\n",
            "[nltk_data]    | Downloading package pl196x to /root/nltk_data...\n",
            "[nltk_data]    |   Package pl196x is already up-to-date!\n",
            "[nltk_data]    | Downloading package ppattach to /root/nltk_data...\n",
            "[nltk_data]    |   Package ppattach is already up-to-date!\n",
            "[nltk_data]    | Downloading package problem_reports to\n",
            "[nltk_data]    |     /root/nltk_data...\n",
            "[nltk_data]    |   Package problem_reports is already up-to-date!\n",
            "[nltk_data]    | Downloading package propbank to /root/nltk_data...\n",
            "[nltk_data]    |   Package propbank is already up-to-date!\n",
            "[nltk_data]    | Downloading package ptb to /root/nltk_data...\n",
            "[nltk_data]    |   Package ptb is already up-to-date!\n",
            "[nltk_data]    | Downloading package product_reviews_1 to\n",
            "[nltk_data]    |     /root/nltk_data...\n",
            "[nltk_data]    |   Package product_reviews_1 is already up-to-date!\n",
            "[nltk_data]    | Downloading package product_reviews_2 to\n",
            "[nltk_data]    |     /root/nltk_data...\n",
            "[nltk_data]    |   Package product_reviews_2 is already up-to-date!\n",
            "[nltk_data]    | Downloading package pros_cons to /root/nltk_data...\n",
            "[nltk_data]    |   Package pros_cons is already up-to-date!\n",
            "[nltk_data]    | Downloading package qc to /root/nltk_data...\n",
            "[nltk_data]    |   Package qc is already up-to-date!\n",
            "[nltk_data]    | Downloading package reuters to /root/nltk_data...\n",
            "[nltk_data]    |   Package reuters is already up-to-date!\n",
            "[nltk_data]    | Downloading package rte to /root/nltk_data...\n",
            "[nltk_data]    |   Package rte is already up-to-date!\n",
            "[nltk_data]    | Downloading package semcor to /root/nltk_data...\n",
            "[nltk_data]    |   Package semcor is already up-to-date!\n",
            "[nltk_data]    | Downloading package senseval to /root/nltk_data...\n",
            "[nltk_data]    |   Package senseval is already up-to-date!\n",
            "[nltk_data]    | Downloading package sentiwordnet to\n",
            "[nltk_data]    |     /root/nltk_data...\n",
            "[nltk_data]    |   Package sentiwordnet is already up-to-date!\n",
            "[nltk_data]    | Downloading package sentence_polarity to\n",
            "[nltk_data]    |     /root/nltk_data...\n",
            "[nltk_data]    |   Package sentence_polarity is already up-to-date!\n",
            "[nltk_data]    | Downloading package shakespeare to /root/nltk_data...\n",
            "[nltk_data]    |   Package shakespeare is already up-to-date!\n",
            "[nltk_data]    | Downloading package sinica_treebank to\n",
            "[nltk_data]    |     /root/nltk_data...\n",
            "[nltk_data]    |   Package sinica_treebank is already up-to-date!\n",
            "[nltk_data]    | Downloading package smultron to /root/nltk_data...\n",
            "[nltk_data]    |   Package smultron is already up-to-date!\n",
            "[nltk_data]    | Downloading package state_union to /root/nltk_data...\n",
            "[nltk_data]    |   Package state_union is already up-to-date!\n",
            "[nltk_data]    | Downloading package stopwords to /root/nltk_data...\n",
            "[nltk_data]    |   Package stopwords is already up-to-date!\n",
            "[nltk_data]    | Downloading package subjectivity to\n",
            "[nltk_data]    |     /root/nltk_data...\n",
            "[nltk_data]    |   Unzipping corpora/subjectivity.zip.\n",
            "[nltk_data]    | Downloading package swadesh to /root/nltk_data...\n",
            "[nltk_data]    |   Unzipping corpora/swadesh.zip.\n",
            "[nltk_data]    | Downloading package switchboard to /root/nltk_data...\n",
            "[nltk_data]    |   Unzipping corpora/switchboard.zip.\n",
            "[nltk_data]    | Downloading package timit to /root/nltk_data...\n",
            "[nltk_data]    |   Unzipping corpora/timit.zip.\n",
            "[nltk_data]    | Downloading package toolbox to /root/nltk_data...\n",
            "[nltk_data]    |   Unzipping corpora/toolbox.zip.\n",
            "[nltk_data]    | Downloading package treebank to /root/nltk_data...\n",
            "[nltk_data]    |   Unzipping corpora/treebank.zip.\n",
            "[nltk_data]    | Downloading package twitter_samples to\n",
            "[nltk_data]    |     /root/nltk_data...\n",
            "[nltk_data]    |   Unzipping corpora/twitter_samples.zip.\n",
            "[nltk_data]    | Downloading package udhr to /root/nltk_data...\n",
            "[nltk_data]    |   Unzipping corpora/udhr.zip.\n",
            "[nltk_data]    | Downloading package udhr2 to /root/nltk_data...\n",
            "[nltk_data]    |   Unzipping corpora/udhr2.zip.\n",
            "[nltk_data]    | Downloading package unicode_samples to\n",
            "[nltk_data]    |     /root/nltk_data...\n",
            "[nltk_data]    |   Unzipping corpora/unicode_samples.zip.\n",
            "[nltk_data]    | Downloading package universal_treebanks_v20 to\n",
            "[nltk_data]    |     /root/nltk_data...\n",
            "[nltk_data]    | Downloading package verbnet to /root/nltk_data...\n",
            "[nltk_data]    |   Unzipping corpora/verbnet.zip.\n",
            "[nltk_data]    | Downloading package verbnet3 to /root/nltk_data...\n",
            "[nltk_data]    |   Unzipping corpora/verbnet3.zip.\n",
            "[nltk_data]    | Downloading package webtext to /root/nltk_data...\n",
            "[nltk_data]    |   Unzipping corpora/webtext.zip.\n",
            "[nltk_data]    | Downloading package wordnet to /root/nltk_data...\n",
            "[nltk_data]    |   Unzipping corpora/wordnet.zip.\n",
            "[nltk_data]    | Downloading package wordnet_ic to /root/nltk_data...\n",
            "[nltk_data]    |   Unzipping corpora/wordnet_ic.zip.\n",
            "[nltk_data]    | Downloading package words to /root/nltk_data...\n",
            "[nltk_data]    |   Unzipping corpora/words.zip.\n",
            "[nltk_data]    | Downloading package ycoe to /root/nltk_data...\n",
            "[nltk_data]    |   Unzipping corpora/ycoe.zip.\n",
            "[nltk_data]    | Downloading package rslp to /root/nltk_data...\n",
            "[nltk_data]    |   Unzipping stemmers/rslp.zip.\n",
            "[nltk_data]    | Downloading package maxent_treebank_pos_tagger to\n",
            "[nltk_data]    |     /root/nltk_data...\n",
            "[nltk_data]    |   Unzipping taggers/maxent_treebank_pos_tagger.zip.\n",
            "[nltk_data]    | Downloading package universal_tagset to\n",
            "[nltk_data]    |     /root/nltk_data...\n",
            "[nltk_data]    |   Unzipping taggers/universal_tagset.zip.\n",
            "[nltk_data]    | Downloading package maxent_ne_chunker to\n",
            "[nltk_data]    |     /root/nltk_data...\n",
            "[nltk_data]    |   Unzipping chunkers/maxent_ne_chunker.zip.\n",
            "[nltk_data]    | Downloading package punkt to /root/nltk_data...\n",
            "[nltk_data]    |   Unzipping tokenizers/punkt.zip.\n",
            "[nltk_data]    | Downloading package book_grammars to\n",
            "[nltk_data]    |     /root/nltk_data...\n",
            "[nltk_data]    |   Unzipping grammars/book_grammars.zip.\n",
            "[nltk_data]    | Downloading package sample_grammars to\n",
            "[nltk_data]    |     /root/nltk_data...\n",
            "[nltk_data]    |   Unzipping grammars/sample_grammars.zip.\n",
            "[nltk_data]    | Downloading package spanish_grammars to\n",
            "[nltk_data]    |     /root/nltk_data...\n",
            "[nltk_data]    |   Unzipping grammars/spanish_grammars.zip.\n",
            "[nltk_data]    | Downloading package basque_grammars to\n",
            "[nltk_data]    |     /root/nltk_data...\n",
            "[nltk_data]    |   Unzipping grammars/basque_grammars.zip.\n",
            "[nltk_data]    | Downloading package large_grammars to\n",
            "[nltk_data]    |     /root/nltk_data...\n",
            "[nltk_data]    |   Unzipping grammars/large_grammars.zip.\n",
            "[nltk_data]    | Downloading package tagsets to /root/nltk_data...\n",
            "[nltk_data]    |   Unzipping help/tagsets.zip.\n",
            "[nltk_data]    | Downloading package snowball_data to\n",
            "[nltk_data]    |     /root/nltk_data...\n",
            "[nltk_data]    | Downloading package bllip_wsj_no_aux to\n",
            "[nltk_data]    |     /root/nltk_data...\n",
            "[nltk_data]    |   Unzipping models/bllip_wsj_no_aux.zip.\n",
            "[nltk_data]    | Downloading package word2vec_sample to\n",
            "[nltk_data]    |     /root/nltk_data...\n",
            "[nltk_data]    |   Unzipping models/word2vec_sample.zip.\n",
            "[nltk_data]    | Downloading package panlex_swadesh to\n",
            "[nltk_data]    |     /root/nltk_data...\n",
            "[nltk_data]    | Downloading package mte_teip5 to /root/nltk_data...\n",
            "[nltk_data]    |   Unzipping corpora/mte_teip5.zip.\n",
            "[nltk_data]    | Downloading package averaged_perceptron_tagger to\n",
            "[nltk_data]    |     /root/nltk_data...\n",
            "[nltk_data]    |   Unzipping taggers/averaged_perceptron_tagger.zip.\n",
            "[nltk_data]    | Downloading package averaged_perceptron_tagger_ru to\n",
            "[nltk_data]    |     /root/nltk_data...\n",
            "[nltk_data]    |   Unzipping\n",
            "[nltk_data]    |       taggers/averaged_perceptron_tagger_ru.zip.\n",
            "[nltk_data]    | Downloading package perluniprops to\n",
            "[nltk_data]    |     /root/nltk_data...\n",
            "[nltk_data]    |   Unzipping misc/perluniprops.zip.\n",
            "[nltk_data]    | Downloading package nonbreaking_prefixes to\n",
            "[nltk_data]    |     /root/nltk_data...\n",
            "[nltk_data]    |   Unzipping corpora/nonbreaking_prefixes.zip.\n",
            "[nltk_data]    | Downloading package vader_lexicon to\n",
            "[nltk_data]    |     /root/nltk_data...\n",
            "[nltk_data]    | Downloading package porter_test to /root/nltk_data...\n",
            "[nltk_data]    |   Unzipping stemmers/porter_test.zip.\n",
            "[nltk_data]    | Downloading package wmt15_eval to /root/nltk_data...\n",
            "[nltk_data]    |   Unzipping models/wmt15_eval.zip.\n",
            "[nltk_data]    | Downloading package mwa_ppdb to /root/nltk_data...\n",
            "[nltk_data]    |   Unzipping misc/mwa_ppdb.zip.\n",
            "[nltk_data]    | \n",
            "[nltk_data]  Done downloading collection all\n",
            "[nltk_data] Downloading package averaged_perceptron_tagger to\n",
            "[nltk_data]     /root/nltk_data...\n",
            "[nltk_data]   Package averaged_perceptron_tagger is already up-to-\n",
            "[nltk_data]       date!\n"
          ],
          "name": "stdout"
        }
      ]
    },
    {
      "cell_type": "code",
      "metadata": {
        "id": "NJ1iTtNi3-9z",
        "colab_type": "code",
        "colab": {
          "base_uri": "https://localhost:8080/",
          "height": 84
        },
        "outputId": "0ca29cdb-c2ab-4911-b15e-8be475a85f9f"
      },
      "source": [
        "\n",
        "!gdown --id 1bzFpqbhQAaafjwOckOh2abRhrv7CVLeN"
      ],
      "execution_count": 5,
      "outputs": [
        {
          "output_type": "stream",
          "text": [
            "Downloading...\n",
            "From: https://drive.google.com/uc?id=1bzFpqbhQAaafjwOckOh2abRhrv7CVLeN\n",
            "To: /content/GoogleNews-vectors-negative300.bin\n",
            "3.64GB [01:13, 49.5MB/s]\n"
          ],
          "name": "stdout"
        }
      ]
    },
    {
      "cell_type": "markdown",
      "metadata": {
        "id": "wRw_6qHiGqP9",
        "colab_type": "text"
      },
      "source": [
        "# **Feauture Engineering**"
      ]
    },
    {
      "cell_type": "code",
      "metadata": {
        "id": "Ql3GYT2LhQTi",
        "colab_type": "code",
        "colab": {}
      },
      "source": [
        "data = pd.read_csv('lab4_train.csv')"
      ],
      "execution_count": 7,
      "outputs": []
    },
    {
      "cell_type": "code",
      "metadata": {
        "id": "h54IGT-_i097",
        "colab_type": "code",
        "colab": {}
      },
      "source": [
        "conflict_word_list = ['but','although','though','despite','spite','nevertheless','however','nonetheless','notwithstanding','contray','contrast']\n",
        "\n",
        "def lemma_filter(string_text):\n",
        "  lemma_filter_list = []\n",
        "  result = []\n",
        "  contracts = contractions.fix(string_text) #เปลี่ยนคำย่อ สมมติว่า didn't เป็น did not \n",
        "  doc = nlp(contracts)\n",
        "  lemma = [token.lemma_ for token in doc]\n",
        "  pos_sentences=nltk.pos_tag(lemma)\n",
        "  for tup in pos_sentences:\n",
        "      if tup[1].startswith(('J','N','R','V')) or tup[0] in conflict_word_list  == True  : #เอา adj noun adv ไว้\n",
        "        lemma_filter_list.append(tup[0])\n",
        "  \n",
        "  return lemma_filter_list\n",
        "\n",
        "data['tokens'] = data['text'].apply(lemma_filter)"
      ],
      "execution_count": 10,
      "outputs": []
    },
    {
      "cell_type": "code",
      "metadata": {
        "id": "vrHqs9Lc9m6d",
        "colab_type": "code",
        "colab": {
          "base_uri": "https://localhost:8080/",
          "height": 34
        },
        "outputId": "3c714fb3-9b67-436e-c24c-4956f0669821"
      },
      "source": [
        "lemma_filter(data['text'][0])"
      ],
      "execution_count": 11,
      "outputs": [
        {
          "output_type": "execute_result",
          "data": {
            "text/plain": [
              "['staff', 'be', 'so', 'horrible', '-PRON-']"
            ]
          },
          "metadata": {
            "tags": []
          },
          "execution_count": 11
        }
      ]
    },
    {
      "cell_type": "code",
      "metadata": {
        "id": "sagUvJl0jOHg",
        "colab_type": "code",
        "colab": {
          "base_uri": "https://localhost:8080/",
          "height": 71
        },
        "outputId": "e85ab5d1-ad33-407f-e082-6b134ff24966"
      },
      "source": [
        "model = KeyedVectors.load_word2vec_format('GoogleNews-vectors-negative300.bin', binary=True)"
      ],
      "execution_count": 12,
      "outputs": [
        {
          "output_type": "stream",
          "text": [
            "/usr/local/lib/python3.6/dist-packages/smart_open/smart_open_lib.py:254: UserWarning: This function is deprecated, use smart_open.open instead. See the migration notes for details: https://github.com/RaRe-Technologies/smart_open/blob/master/README.rst#migrating-to-the-new-open-function\n",
            "  'See the migration notes for details: %s' % _MIGRATION_NOTES_URL\n"
          ],
          "name": "stderr"
        }
      ]
    },
    {
      "cell_type": "code",
      "metadata": {
        "id": "pn0FY7WPhUG9",
        "colab_type": "code",
        "colab": {
          "base_uri": "https://localhost:8080/",
          "height": 34
        },
        "outputId": "ceb4746f-0387-40a8-9fc9-7b00546e775e"
      },
      "source": [
        "vocab_in_data = set()\n",
        "check_data_bigram = data['tokens']\n",
        "for row in check_data_bigram:\n",
        "  for bi in row:\n",
        "    vocab_in_data.add(bi)\n",
        "  \n",
        "  \n",
        "print(len(vocab_in_data))"
      ],
      "execution_count": 13,
      "outputs": [
        {
          "output_type": "stream",
          "text": [
            "3544\n"
          ],
          "name": "stdout"
        }
      ]
    },
    {
      "cell_type": "code",
      "metadata": {
        "id": "_RKI2BVYhc-n",
        "colab_type": "code",
        "colab": {}
      },
      "source": [
        "vector_dim = model.vector_size"
      ],
      "execution_count": 14,
      "outputs": []
    },
    {
      "cell_type": "code",
      "metadata": {
        "id": "6RH5RAz9hgki",
        "colab_type": "code",
        "colab": {
          "base_uri": "https://localhost:8080/",
          "height": 34
        },
        "outputId": "5c047059-c56a-43a4-8901-791fa445847b"
      },
      "source": [
        "vector_dim"
      ],
      "execution_count": 15,
      "outputs": [
        {
          "output_type": "execute_result",
          "data": {
            "text/plain": [
              "300"
            ]
          },
          "metadata": {
            "tags": []
          },
          "execution_count": 15
        }
      ]
    },
    {
      "cell_type": "code",
      "metadata": {
        "id": "TB5MEboh_FTz",
        "colab_type": "code",
        "colab": {}
      },
      "source": [
        "max_len = 100"
      ],
      "execution_count": 16,
      "outputs": []
    },
    {
      "cell_type": "code",
      "metadata": {
        "id": "a14BR8bxjNm2",
        "colab_type": "code",
        "colab": {}
      },
      "source": [
        "vocab_size = len(vocab_in_data)  +1"
      ],
      "execution_count": 17,
      "outputs": []
    },
    {
      "cell_type": "code",
      "metadata": {
        "id": "HDtS92LSq8-y",
        "colab_type": "code",
        "colab": {
          "base_uri": "https://localhost:8080/",
          "height": 34
        },
        "outputId": "8e7752c1-4ecf-49d3-b85f-4ddc8f8cf0aa"
      },
      "source": [
        "vocab_size"
      ],
      "execution_count": 18,
      "outputs": [
        {
          "output_type": "execute_result",
          "data": {
            "text/plain": [
              "3545"
            ]
          },
          "metadata": {
            "tags": []
          },
          "execution_count": 18
        }
      ]
    },
    {
      "cell_type": "code",
      "metadata": {
        "id": "XD76fKTYq2pz",
        "colab_type": "code",
        "colab": {}
      },
      "source": [
        "word_to_index = {'PADDING':0}\n",
        "\n",
        "# make weight matrix of word embedding, vocab size + 1 (for padding)\n",
        "embedding_matrix = np.zeros((vocab_size, vector_dim), dtype=\"float32\")\n",
        "embedding_matrix[0] = np.zeros(vector_dim)\n",
        "\n",
        "for i, word in enumerate(vocab_in_data & set(model.vocab)):\n",
        "    word_to_index[word] = i+1\n",
        "    embedding_matrix[i+1] = model[word] "
      ],
      "execution_count": 19,
      "outputs": []
    },
    {
      "cell_type": "code",
      "metadata": {
        "id": "W0_LvbaSIvPH",
        "colab_type": "code",
        "colab": {}
      },
      "source": [
        "import numpy as np\n",
        "train, dev = np.split(data, [int(0.8 * len(data))])"
      ],
      "execution_count": 20,
      "outputs": []
    },
    {
      "cell_type": "code",
      "metadata": {
        "id": "o2Da3GMD-38f",
        "colab_type": "code",
        "colab": {}
      },
      "source": [
        "def w2i(tokens):\n",
        "    return [word_to_index.get(word, 0) for word in tokens[:max_len]]\n",
        "\n",
        "# apply functions & convert to np.array\n",
        "input_train = np.array(train['tokens'].apply(w2i).tolist())\n",
        "input_dev = np.array(dev['tokens'].apply(w2i).tolist())\n",
        "\n",
        " \n",
        "# input : zero padding\n",
        "train_x = pad_sequences(input_train, max_len, padding='post')\n",
        "dev_x = pad_sequences(input_dev, max_len, padding='post')"
      ],
      "execution_count": 21,
      "outputs": []
    },
    {
      "cell_type": "code",
      "metadata": {
        "id": "6v-LFwM4D30D",
        "colab_type": "code",
        "colab": {}
      },
      "source": [
        "#function for relabel\n",
        "def repolar(polarity): #relabel of polarity\n",
        "    return {'negative':0, 'positive':1, 'conflict':2, 'neutral':3}[polarity]\n",
        "def reaspect(aspect): #relabel of aspect\n",
        "    return {'service':0, 'food':1, 'anecdotes/miscellaneous':2, 'price':3,'ambience':4}[aspect]\n",
        "def index_to_label(polarity_index): #convert back to label\n",
        "    return {0: 'negative', 1: 'positive', 2: 'conflict', 3: 'neutral'}[polarity_index]\n",
        "def index_to_aspect(aspect_index): #convert back to label\n",
        "    return {0:'service', 1:'food', 2:'anecdotes/miscellaneous', 3:'price',4:'ambience'}[aspect_index]"
      ],
      "execution_count": 22,
      "outputs": []
    },
    {
      "cell_type": "code",
      "metadata": {
        "id": "2qdltau3BRKv",
        "colab_type": "code",
        "colab": {}
      },
      "source": [
        "# apply functions & convert to np.array\n",
        "label_train = np.array(train['polarity'].apply(repolar).tolist())\n",
        "label_dev = np.array(dev['polarity'].apply(repolar).tolist())\n",
        "\n",
        "aspect_train = np.array(train['aspectCategory'].apply(reaspect).tolist())\n",
        "aspect_dev = np.array(dev['aspectCategory'].apply(reaspect).tolist())\n",
        "\n",
        "# label : one-hot vector\n",
        "train_label = to_categorical(label_train, num_classes=4)\n",
        "dev_label = to_categorical(label_dev, num_classes=4)\n",
        "\n",
        "train_aspect = to_categorical(aspect_train, num_classes=5)\n",
        "dev_aspect = to_categorical(aspect_dev, num_classes=5)"
      ],
      "execution_count": 23,
      "outputs": []
    },
    {
      "cell_type": "code",
      "metadata": {
        "id": "a6GMaS7npbTu",
        "colab_type": "code",
        "colab": {}
      },
      "source": [
        ""
      ],
      "execution_count": 23,
      "outputs": []
    },
    {
      "cell_type": "markdown",
      "metadata": {
        "id": "OymqvkiBFzeS",
        "colab_type": "text"
      },
      "source": [
        "# **Model for polarity**"
      ]
    },
    {
      "cell_type": "code",
      "metadata": {
        "id": "adwDrn6OpcR7",
        "colab_type": "code",
        "colab": {
          "base_uri": "https://localhost:8080/",
          "height": 355
        },
        "outputId": "1085d78f-560d-45d7-df48-f767321cdd6c"
      },
      "source": [
        "# instantiation\n",
        "p_model = Sequential()\n",
        "\n",
        "# add embedding layer\n",
        "p_model.add(Embedding(input_dim=vocab_size,\n",
        "                    input_length=max_len,\n",
        "                    output_dim=vector_dim, \n",
        "                    weights=[embedding_matrix], \n",
        "                    mask_zero=True,\n",
        "                    trainable=True))\n",
        "\n",
        "# average\n",
        "p_model.add(Bidirectional(LSTM(200,recurrent_dropout = 0.2)))\n",
        "# add hidden layer\n",
        "p_model.add(Dense(250, activation='relu'))\n",
        "p_model.add(Dropout(0.20))\n",
        "p_model.add(Dense(70, activation='relu'))\n",
        "# add output layer\n",
        "p_model.add(Dense(4, activation='softmax'))\n",
        "\n",
        "# compile model\n",
        "p_model.compile(optimizer=\"rmsprop\", loss=\"categorical_crossentropy\", metrics=[\"accuracy\"])\n",
        "\n",
        "p_model.summary()"
      ],
      "execution_count": 24,
      "outputs": [
        {
          "output_type": "stream",
          "text": [
            "Model: \"sequential\"\n",
            "_________________________________________________________________\n",
            "Layer (type)                 Output Shape              Param #   \n",
            "=================================================================\n",
            "embedding (Embedding)        (None, 100, 300)          1063500   \n",
            "_________________________________________________________________\n",
            "bidirectional (Bidirectional (None, 400)               801600    \n",
            "_________________________________________________________________\n",
            "dense (Dense)                (None, 250)               100250    \n",
            "_________________________________________________________________\n",
            "dropout (Dropout)            (None, 250)               0         \n",
            "_________________________________________________________________\n",
            "dense_1 (Dense)              (None, 70)                17570     \n",
            "_________________________________________________________________\n",
            "dense_2 (Dense)              (None, 4)                 284       \n",
            "=================================================================\n",
            "Total params: 1,983,204\n",
            "Trainable params: 1,983,204\n",
            "Non-trainable params: 0\n",
            "_________________________________________________________________\n"
          ],
          "name": "stdout"
        }
      ]
    },
    {
      "cell_type": "code",
      "metadata": {
        "id": "NuDa_tANFHWL",
        "colab_type": "code",
        "colab": {
          "base_uri": "https://localhost:8080/",
          "height": 754
        },
        "outputId": "05ec9c65-24fa-4922-c561-e9addedc2c1f"
      },
      "source": [
        "plot_model(p_model, show_shapes=True,to_file='model.png')\n",
        "display_png(Image('model.png'))"
      ],
      "execution_count": 25,
      "outputs": [
        {
          "output_type": "display_data",
          "data": {
            "image/png": "[encoded data removed]"
          },
          "metadata": {
            "tags": []
          }
        }
      ]
    },
    {
      "cell_type": "code",
      "metadata": {
        "id": "fSZsW0kbJZB3",
        "colab_type": "code",
        "colab": {
          "base_uri": "https://localhost:8080/",
          "height": 355
        },
        "outputId": "bbef220f-4c41-488b-f586-ae0dffa5a90f"
      },
      "source": [
        "# train\n",
        "history = p_model.fit(train_x, train_label, batch_size=128, epochs=10, validation_data=(dev_x, dev_label))"
      ],
      "execution_count": 26,
      "outputs": [
        {
          "output_type": "stream",
          "text": [
            "Epoch 1/10\n",
            "20/20 [==============================] - 33s 2s/step - loss: 1.0392 - accuracy: 0.5761 - val_loss: 0.8573 - val_accuracy: 0.6503\n",
            "Epoch 2/10\n",
            "20/20 [==============================] - 33s 2s/step - loss: 0.8168 - accuracy: 0.6759 - val_loss: 0.8029 - val_accuracy: 0.6804\n",
            "Epoch 3/10\n",
            "20/20 [==============================] - 43s 2s/step - loss: 0.6720 - accuracy: 0.7421 - val_loss: 0.7607 - val_accuracy: 0.7009\n",
            "Epoch 4/10\n",
            "20/20 [==============================] - 35s 2s/step - loss: 0.5715 - accuracy: 0.7904 - val_loss: 0.8201 - val_accuracy: 0.7136\n",
            "Epoch 5/10\n",
            "20/20 [==============================] - 32s 2s/step - loss: 0.4945 - accuracy: 0.8118 - val_loss: 0.8217 - val_accuracy: 0.7152\n",
            "Epoch 6/10\n",
            "20/20 [==============================] - 32s 2s/step - loss: 0.3940 - accuracy: 0.8494 - val_loss: 0.9178 - val_accuracy: 0.6820\n",
            "Epoch 7/10\n",
            "20/20 [==============================] - 32s 2s/step - loss: 0.3478 - accuracy: 0.8669 - val_loss: 0.9689 - val_accuracy: 0.6962\n",
            "Epoch 8/10\n",
            "20/20 [==============================] - 32s 2s/step - loss: 0.2808 - accuracy: 0.8887 - val_loss: 1.0190 - val_accuracy: 0.7025\n",
            "Epoch 9/10\n",
            "20/20 [==============================] - 32s 2s/step - loss: 0.2461 - accuracy: 0.9013 - val_loss: 1.1081 - val_accuracy: 0.6962\n",
            "Epoch 10/10\n",
            "20/20 [==============================] - 32s 2s/step - loss: 0.2034 - accuracy: 0.9156 - val_loss: 1.2640 - val_accuracy: 0.6725\n"
          ],
          "name": "stdout"
        }
      ]
    },
    {
      "cell_type": "code",
      "metadata": {
        "id": "y6Rf6YELJ3tk",
        "colab_type": "code",
        "colab": {
          "base_uri": "https://localhost:8080/",
          "height": 282
        },
        "outputId": "5fc508b3-8695-4520-e2fa-5cf56a1b22f3"
      },
      "source": [
        "plt.plot(history.history['accuracy'])\n",
        "plt.plot(history.history['val_accuracy'])\n",
        "plt.ylabel('accuracy')\n",
        "plt.xlabel('epoch')\n",
        "plt.legend(['train', 'dev'], loc='best')\n",
        "plt.show()"
      ],
      "execution_count": 28,
      "outputs": [
        {
          "output_type": "display_data",
          "data": {
            "image/png": "[encoded data removed]",
            "text/plain": [
              "<Figure size 432x288 with 1 Axes>"
            ]
          },
          "metadata": {
            "tags": []
          }
        }
      ]
    },
    {
      "cell_type": "code",
      "metadata": {
        "id": "wr0tDEUwJ3pE",
        "colab_type": "code",
        "colab": {
          "base_uri": "https://localhost:8080/",
          "height": 84
        },
        "outputId": "e5fd565c-1392-4bc2-bf12-57150b26561a"
      },
      "source": [
        "!gdown --id 1YtAHCzeZUXGZQ9cimdkkUq4lUk3ZH-I_"
      ],
      "execution_count": 29,
      "outputs": [
        {
          "output_type": "stream",
          "text": [
            "Downloading...\n",
            "From: https://drive.google.com/uc?id=1YtAHCzeZUXGZQ9cimdkkUq4lUk3ZH-I_\n",
            "To: /content/evaluate.py\n",
            "\r  0% 0.00/7.03k [00:00<?, ?B/s]\r100% 7.03k/7.03k [00:00<00:00, 2.89MB/s]\n"
          ],
          "name": "stdout"
        }
      ]
    },
    {
      "cell_type": "code",
      "metadata": {
        "id": "sTfluLwbn8vH",
        "colab_type": "code",
        "colab": {}
      },
      "source": [
        "polar_prediction = p_model.predict(dev_x)\n",
        "polar_prediction = [index_to_label(np.argmax(i)) for i in polar_prediction]\n"
      ],
      "execution_count": 30,
      "outputs": []
    },
    {
      "cell_type": "markdown",
      "metadata": {
        "id": "uECDdDiBGQM8",
        "colab_type": "text"
      },
      "source": [
        "# **Model for aspect**"
      ]
    },
    {
      "cell_type": "code",
      "metadata": {
        "id": "1KeWbD-l3V4E",
        "colab_type": "code",
        "colab": {
          "base_uri": "https://localhost:8080/",
          "height": 355
        },
        "outputId": "fe0e6720-a526-4675-a8f7-5f428cc52aad"
      },
      "source": [
        "#Aspect\n",
        "# instantiation\n",
        "a_model = Sequential()\n",
        "\n",
        "# add embedding layer\n",
        "a_model.add(Embedding(input_dim=vocab_size,\n",
        "                    input_length=max_len,\n",
        "                    output_dim=vector_dim, \n",
        "                    weights=[embedding_matrix], \n",
        "                    mask_zero=True,\n",
        "                    trainable=True))\n",
        "\n",
        "# average\n",
        "a_model.add(Bidirectional(LSTM(200,recurrent_dropout = 0.2)))\n",
        "\n",
        "# add hidden layer\n",
        "a_model.add(Dense(250, activation='relu'))\n",
        "a_model.add(Dropout(0.20))\n",
        "a_model.add(Dense(70, activation='relu'))\n",
        "\n",
        "\n",
        "# add output layer\n",
        "a_model.add(Dense(5, activation='softmax'))\n",
        "\n",
        "# compile model\n",
        "a_model.compile(optimizer=\"rmsprop\",loss=\"categorical_crossentropy\", metrics=[\"accuracy\"])\n",
        "\n",
        "a_model.summary()"
      ],
      "execution_count": 43,
      "outputs": [
        {
          "output_type": "stream",
          "text": [
            "Model: \"sequential_4\"\n",
            "_________________________________________________________________\n",
            "Layer (type)                 Output Shape              Param #   \n",
            "=================================================================\n",
            "embedding_4 (Embedding)      (None, 100, 300)          1063500   \n",
            "_________________________________________________________________\n",
            "bidirectional_4 (Bidirection (None, 400)               801600    \n",
            "_________________________________________________________________\n",
            "dense_12 (Dense)             (None, 250)               100250    \n",
            "_________________________________________________________________\n",
            "dropout_4 (Dropout)          (None, 250)               0         \n",
            "_________________________________________________________________\n",
            "dense_13 (Dense)             (None, 70)                17570     \n",
            "_________________________________________________________________\n",
            "dense_14 (Dense)             (None, 5)                 355       \n",
            "=================================================================\n",
            "Total params: 1,983,275\n",
            "Trainable params: 1,983,275\n",
            "Non-trainable params: 0\n",
            "_________________________________________________________________\n"
          ],
          "name": "stdout"
        }
      ]
    },
    {
      "cell_type": "code",
      "metadata": {
        "id": "YTHmcdJ93j-s",
        "colab_type": "code",
        "colab": {
          "base_uri": "https://localhost:8080/",
          "height": 754
        },
        "outputId": "ec4b6b21-3851-4941-a442-adc0be7df87f"
      },
      "source": [
        "plot_model(a_model, show_shapes=True,to_file='model.png')\n",
        "display_png(Image('model.png'))"
      ],
      "execution_count": 44,
      "outputs": [
        {
          "output_type": "display_data",
          "data": {
            "image/png": "[encoded data removed]"
          },
          "metadata": {
            "tags": []
          }
        }
      ]
    },
    {
      "cell_type": "code",
      "metadata": {
        "id": "sDaEHA6a3uOL",
        "colab_type": "code",
        "colab": {
          "base_uri": "https://localhost:8080/",
          "height": 355
        },
        "outputId": "5d637002-1675-4307-9969-b21857dbd15f"
      },
      "source": [
        "history = a_model.fit(train_x, train_aspect, batch_size=128, epochs=10, validation_data=(dev_x, dev_aspect))"
      ],
      "execution_count": 45,
      "outputs": [
        {
          "output_type": "stream",
          "text": [
            "Epoch 1/10\n",
            "20/20 [==============================] - 32s 2s/step - loss: 1.2938 - accuracy: 0.4980 - val_loss: 1.0066 - val_accuracy: 0.6392\n",
            "Epoch 2/10\n",
            "20/20 [==============================] - 32s 2s/step - loss: 0.8841 - accuracy: 0.6759 - val_loss: 0.8882 - val_accuracy: 0.6519\n",
            "Epoch 3/10\n",
            "20/20 [==============================] - 32s 2s/step - loss: 0.7248 - accuracy: 0.7183 - val_loss: 0.8592 - val_accuracy: 0.6646\n",
            "Epoch 4/10\n",
            "20/20 [==============================] - 31s 2s/step - loss: 0.6108 - accuracy: 0.7500 - val_loss: 0.8632 - val_accuracy: 0.6851\n",
            "Epoch 5/10\n",
            "20/20 [==============================] - 32s 2s/step - loss: 0.5489 - accuracy: 0.7587 - val_loss: 0.8890 - val_accuracy: 0.6835\n",
            "Epoch 6/10\n",
            "20/20 [==============================] - 31s 2s/step - loss: 0.5086 - accuracy: 0.7627 - val_loss: 0.8629 - val_accuracy: 0.6772\n",
            "Epoch 7/10\n",
            "20/20 [==============================] - 32s 2s/step - loss: 0.4461 - accuracy: 0.7845 - val_loss: 1.0423 - val_accuracy: 0.6487\n",
            "Epoch 8/10\n",
            "20/20 [==============================] - 32s 2s/step - loss: 0.4397 - accuracy: 0.7817 - val_loss: 1.0057 - val_accuracy: 0.6503\n",
            "Epoch 9/10\n",
            "20/20 [==============================] - 31s 2s/step - loss: 0.4196 - accuracy: 0.7900 - val_loss: 0.9013 - val_accuracy: 0.6835\n",
            "Epoch 10/10\n",
            "20/20 [==============================] - 31s 2s/step - loss: 0.3784 - accuracy: 0.8055 - val_loss: 1.1102 - val_accuracy: 0.6661\n"
          ],
          "name": "stdout"
        }
      ]
    },
    {
      "cell_type": "code",
      "metadata": {
        "id": "YGLGw5rH332L",
        "colab_type": "code",
        "colab": {
          "base_uri": "https://localhost:8080/",
          "height": 282
        },
        "outputId": "8ffb905f-3af7-4062-b789-1d505f081080"
      },
      "source": [
        "plt.plot(history.history['accuracy'])\n",
        "plt.plot(history.history['val_accuracy'])\n",
        "plt.ylabel('accuracy')\n",
        "plt.xlabel('epoch')\n",
        "plt.legend(['train', 'dev'], loc='best')\n",
        "plt.show()"
      ],
      "execution_count": 62,
      "outputs": [
        {
          "output_type": "display_data",
          "data": {
            "image/png": "[encoded data removed]",
            "text/plain": [
              "<Figure size 432x288 with 1 Axes>"
            ]
          },
          "metadata": {
            "tags": []
          }
        }
      ]
    },
    {
      "cell_type": "code",
      "metadata": {
        "id": "8lnnR_Si4F3I",
        "colab_type": "code",
        "colab": {}
      },
      "source": [
        "aspect_prediction = a_model.predict(dev_x)\n",
        "aspect_prediction = [index_to_aspect(np.argmax(i)) for i in aspect_prediction]"
      ],
      "execution_count": 63,
      "outputs": []
    },
    {
      "cell_type": "code",
      "metadata": {
        "id": "EHdJOAm44RF9",
        "colab_type": "code",
        "colab": {
          "base_uri": "https://localhost:8080/",
          "height": 399
        },
        "outputId": "a5720b9d-0c4f-49e3-bed0-d21bdd4a35d4"
      },
      "source": [
        "file = pd.DataFrame()\n",
        "file['id'] = dev['id']\n",
        "file['polarity'] = polar_prediction\n",
        "file['aspectCategory'] = aspect_prediction\n",
        "file.to_csv('pred.csv', index=None)\n",
        "file"
      ],
      "execution_count": 64,
      "outputs": [
        {
          "output_type": "execute_result",
          "data": {
            "text/html": [
              "<div>\n",
              "<style scoped>\n",
              "    .dataframe tbody tr th:only-of-type {\n",
              "        vertical-align: middle;\n",
              "    }\n",
              "\n",
              "    .dataframe tbody tr th {\n",
              "        vertical-align: top;\n",
              "    }\n",
              "\n",
              "    .dataframe thead th {\n",
              "        text-align: right;\n",
              "    }\n",
              "</style>\n",
              "<table border=\"1\" class=\"dataframe\">\n",
              "  <thead>\n",
              "    <tr style=\"text-align: right;\">\n",
              "      <th></th>\n",
              "      <th>id</th>\n",
              "      <th>polarity</th>\n",
              "      <th>aspectCategory</th>\n",
              "    </tr>\n",
              "  </thead>\n",
              "  <tbody>\n",
              "    <tr>\n",
              "      <th>2524</th>\n",
              "      <td>3235</td>\n",
              "      <td>positive</td>\n",
              "      <td>service</td>\n",
              "    </tr>\n",
              "    <tr>\n",
              "      <th>2525</th>\n",
              "      <td>3480</td>\n",
              "      <td>neutral</td>\n",
              "      <td>anecdotes/miscellaneous</td>\n",
              "    </tr>\n",
              "    <tr>\n",
              "      <th>2526</th>\n",
              "      <td>1459</td>\n",
              "      <td>positive</td>\n",
              "      <td>food</td>\n",
              "    </tr>\n",
              "    <tr>\n",
              "      <th>2527</th>\n",
              "      <td>1459</td>\n",
              "      <td>positive</td>\n",
              "      <td>food</td>\n",
              "    </tr>\n",
              "    <tr>\n",
              "      <th>2528</th>\n",
              "      <td>1597</td>\n",
              "      <td>positive</td>\n",
              "      <td>food</td>\n",
              "    </tr>\n",
              "    <tr>\n",
              "      <th>...</th>\n",
              "      <td>...</td>\n",
              "      <td>...</td>\n",
              "      <td>...</td>\n",
              "    </tr>\n",
              "    <tr>\n",
              "      <th>3151</th>\n",
              "      <td>2853</td>\n",
              "      <td>positive</td>\n",
              "      <td>anecdotes/miscellaneous</td>\n",
              "    </tr>\n",
              "    <tr>\n",
              "      <th>3152</th>\n",
              "      <td>1163</td>\n",
              "      <td>positive</td>\n",
              "      <td>service</td>\n",
              "    </tr>\n",
              "    <tr>\n",
              "      <th>3153</th>\n",
              "      <td>216</td>\n",
              "      <td>positive</td>\n",
              "      <td>anecdotes/miscellaneous</td>\n",
              "    </tr>\n",
              "    <tr>\n",
              "      <th>3154</th>\n",
              "      <td>1109</td>\n",
              "      <td>positive</td>\n",
              "      <td>food</td>\n",
              "    </tr>\n",
              "    <tr>\n",
              "      <th>3155</th>\n",
              "      <td>899</td>\n",
              "      <td>neutral</td>\n",
              "      <td>food</td>\n",
              "    </tr>\n",
              "  </tbody>\n",
              "</table>\n",
              "<p>632 rows × 3 columns</p>\n",
              "</div>"
            ],
            "text/plain": [
              "        id  polarity           aspectCategory\n",
              "2524  3235  positive                  service\n",
              "2525  3480   neutral  anecdotes/miscellaneous\n",
              "2526  1459  positive                     food\n",
              "2527  1459  positive                     food\n",
              "2528  1597  positive                     food\n",
              "...    ...       ...                      ...\n",
              "3151  2853  positive  anecdotes/miscellaneous\n",
              "3152  1163  positive                  service\n",
              "3153   216  positive  anecdotes/miscellaneous\n",
              "3154  1109  positive                     food\n",
              "3155   899   neutral                     food\n",
              "\n",
              "[632 rows x 3 columns]"
            ]
          },
          "metadata": {
            "tags": []
          },
          "execution_count": 64
        }
      ]
    },
    {
      "cell_type": "code",
      "metadata": {
        "id": "Biyy-4Sj4YVt",
        "colab_type": "code",
        "colab": {
          "base_uri": "https://localhost:8080/",
          "height": 405
        },
        "outputId": "dddb60ef-60c3-4f02-9b31-cb1d2192cf70"
      },
      "source": [
        "!python3 evaluate.py lab4_train.csv pred.csv"
      ],
      "execution_count": 65,
      "outputs": [
        {
          "output_type": "stream",
          "text": [
            "=== CLASSIFICATION : ASPECT ===\n",
            "                class name  precision  recall  F1-score support\n",
            "0                     food      0.920   0.788     0.849     203\n",
            "1                    price      0.900   0.300     0.450      60\n",
            "2                  service      0.889   0.538     0.671     104\n",
            "3                 ambience      0.903   0.394     0.549      71\n",
            "4  anecdotes/miscellaneous      0.761   0.820     0.789     194\n",
            "5                MACRO AVG      0.874   0.568     0.662     632\n",
            "6                MICRO AVG      0.847   0.666     0.746     632 \n",
            "\n",
            "=== CLASSIFICATION : SENTIMENT ===\n",
            "  class name  precision  recall  F1-score support\n",
            "0   positive      0.840   0.771     0.804     306\n",
            "1   negative      0.517   0.720     0.602     125\n",
            "2    neutral      0.441   0.203     0.278      74\n",
            "3   conflict      0.250   0.083     0.125      24\n",
            "4  MACRO AVG      0.512   0.444     0.452     529\n",
            "5  MICRO AVG      0.690   0.648     0.669     529 \n",
            "\n",
            "=== CLASSIFICATION : OVERALL ===\n",
            "              precision  recall  F1-score support\n",
            "0  MICRO AVG      0.579   0.456     0.510     632 \n",
            "\n"
          ],
          "name": "stdout"
        }
      ]
    },
    {
      "cell_type": "code",
      "metadata": {
        "id": "U22SaNi1THp0",
        "colab_type": "code",
        "colab": {
          "base_uri": "https://localhost:8080/",
          "height": 84
        },
        "outputId": "c6c02c4e-5372-446f-fb4e-7e9f7122932f"
      },
      "source": [
        "!gdown --id 1EacvwnOHfwa4FiZy2K8mFpFjmpb4Mt-t"
      ],
      "execution_count": 66,
      "outputs": [
        {
          "output_type": "stream",
          "text": [
            "Downloading...\n",
            "From: https://drive.google.com/uc?id=1EacvwnOHfwa4FiZy2K8mFpFjmpb4Mt-t\n",
            "To: /content/lab4_test.csv\n",
            "\r  0% 0.00/36.2k [00:00<?, ?B/s]\r100% 36.2k/36.2k [00:00<00:00, 31.0MB/s]\n"
          ],
          "name": "stdout"
        }
      ]
    },
    {
      "cell_type": "code",
      "metadata": {
        "id": "RDh26pSZTVTj",
        "colab_type": "code",
        "colab": {}
      },
      "source": [
        "test = pd.read_csv('lab4_test.csv')"
      ],
      "execution_count": 67,
      "outputs": []
    },
    {
      "cell_type": "code",
      "metadata": {
        "id": "sshK121QTK4E",
        "colab_type": "code",
        "colab": {}
      },
      "source": [
        "test['tokens'] = test['text'].apply(lemma_filter)"
      ],
      "execution_count": 52,
      "outputs": []
    },
    {
      "cell_type": "code",
      "metadata": {
        "id": "lqd6aw0yYzkP",
        "colab_type": "code",
        "colab": {}
      },
      "source": [
        "def w2i(tokens):\n",
        "    return [word_to_index.get(word, 0) for word in tokens[:max_len]]\n",
        "\n",
        "# apply functions & convert to np.array\n",
        "input_test = np.array(test['tokens'].apply(w2i).tolist()) \n",
        "# input : zero padding\n",
        "\n",
        "test_x = pad_sequences(input_test, max_len, padding='post')"
      ],
      "execution_count": 53,
      "outputs": []
    },
    {
      "cell_type": "code",
      "metadata": {
        "id": "57YkzHDWdPBy",
        "colab_type": "code",
        "colab": {}
      },
      "source": [
        "label_train = np.array(train['polarity'].apply(repolar).tolist())\n",
        " # label_dev = np.array(dev['polarity'].apply(repolar).tolist())\n",
        "\n",
        "aspect_train = np.array(train['aspectCategory'].apply(reaspect).tolist())\n",
        "#aspect_dev = np.array(dev['aspectCategory'].apply(reaspect).tolist())\n",
        "\n",
        "# label : one-hot vector\n",
        "train_label = to_categorical(label_train, num_classes=4)\n",
        "#dev_label = to_categorical(label_dev, num_classes=4)\n",
        "\n",
        "train_aspect = to_categorical(aspect_train, num_classes=5)\n",
        "#dev_aspect = to_categorical(aspect_dev, num_classes=5)"
      ],
      "execution_count": 54,
      "outputs": []
    },
    {
      "cell_type": "code",
      "metadata": {
        "id": "DwhXsaIxS8BE",
        "colab_type": "code",
        "colab": {}
      },
      "source": [
        "polar_p = p_model.predict(test_x)\n",
        "polar_p = [index_to_label(np.argmax(i)) for i in polar_p]"
      ],
      "execution_count": 55,
      "outputs": []
    },
    {
      "cell_type": "code",
      "metadata": {
        "id": "XGnQMpUUbfXz",
        "colab_type": "code",
        "colab": {
          "base_uri": "https://localhost:8080/",
          "height": 194
        },
        "outputId": "2236e31d-e38e-4740-d7ff-79294f7a615c"
      },
      "source": [
        "test.head()"
      ],
      "execution_count": 56,
      "outputs": [
        {
          "output_type": "execute_result",
          "data": {
            "text/html": [
              "<div>\n",
              "<style scoped>\n",
              "    .dataframe tbody tr th:only-of-type {\n",
              "        vertical-align: middle;\n",
              "    }\n",
              "\n",
              "    .dataframe tbody tr th {\n",
              "        vertical-align: top;\n",
              "    }\n",
              "\n",
              "    .dataframe thead th {\n",
              "        text-align: right;\n",
              "    }\n",
              "</style>\n",
              "<table border=\"1\" class=\"dataframe\">\n",
              "  <thead>\n",
              "    <tr style=\"text-align: right;\">\n",
              "      <th></th>\n",
              "      <th>id</th>\n",
              "      <th>text</th>\n",
              "      <th>tokens</th>\n",
              "    </tr>\n",
              "  </thead>\n",
              "  <tbody>\n",
              "    <tr>\n",
              "      <th>0</th>\n",
              "      <td>899</td>\n",
              "      <td>Food and service was okay.</td>\n",
              "      <td>[food, service, be, okay]</td>\n",
              "    </tr>\n",
              "    <tr>\n",
              "      <th>1</th>\n",
              "      <td>1349</td>\n",
              "      <td>great for a romantic evening, or a fun evening...</td>\n",
              "      <td>[great, romantic, evening, fun, evening, friend]</td>\n",
              "    </tr>\n",
              "    <tr>\n",
              "      <th>2</th>\n",
              "      <td>934</td>\n",
              "      <td>The lamb meat was under-cooked and EXTRMELY CH...</td>\n",
              "      <td>[lamb, meat, be, cook, extrmely, CHEWY]</td>\n",
              "    </tr>\n",
              "    <tr>\n",
              "      <th>3</th>\n",
              "      <td>2199</td>\n",
              "      <td>The best pad thai i've ever had.</td>\n",
              "      <td>[good, pad, thai, -PRON-, have, ever, have]</td>\n",
              "    </tr>\n",
              "    <tr>\n",
              "      <th>4</th>\n",
              "      <td>188</td>\n",
              "      <td>Over time, the food quality has decreased subs...</td>\n",
              "      <td>[time, food, quality, have, decrease, substant...</td>\n",
              "    </tr>\n",
              "  </tbody>\n",
              "</table>\n",
              "</div>"
            ],
            "text/plain": [
              "     id  ...                                             tokens\n",
              "0   899  ...                          [food, service, be, okay]\n",
              "1  1349  ...   [great, romantic, evening, fun, evening, friend]\n",
              "2   934  ...            [lamb, meat, be, cook, extrmely, CHEWY]\n",
              "3  2199  ...        [good, pad, thai, -PRON-, have, ever, have]\n",
              "4   188  ...  [time, food, quality, have, decrease, substant...\n",
              "\n",
              "[5 rows x 3 columns]"
            ]
          },
          "metadata": {
            "tags": []
          },
          "execution_count": 56
        }
      ]
    },
    {
      "cell_type": "code",
      "metadata": {
        "id": "AasEWVjWbQXS",
        "colab_type": "code",
        "colab": {
          "base_uri": "https://localhost:8080/",
          "height": 1000
        },
        "outputId": "8b48be20-e18b-4942-f85c-4439102cb38a"
      },
      "source": [
        "polar_p"
      ],
      "execution_count": 57,
      "outputs": [
        {
          "output_type": "execute_result",
          "data": {
            "text/plain": [
              "['neutral',\n",
              " 'positive',\n",
              " 'positive',\n",
              " 'positive',\n",
              " 'negative',\n",
              " 'positive',\n",
              " 'positive',\n",
              " 'positive',\n",
              " 'negative',\n",
              " 'neutral',\n",
              " 'negative',\n",
              " 'positive',\n",
              " 'negative',\n",
              " 'negative',\n",
              " 'positive',\n",
              " 'negative',\n",
              " 'positive',\n",
              " 'positive',\n",
              " 'positive',\n",
              " 'negative',\n",
              " 'negative',\n",
              " 'positive',\n",
              " 'negative',\n",
              " 'positive',\n",
              " 'neutral',\n",
              " 'neutral',\n",
              " 'positive',\n",
              " 'negative',\n",
              " 'negative',\n",
              " 'negative',\n",
              " 'positive',\n",
              " 'neutral',\n",
              " 'positive',\n",
              " 'positive',\n",
              " 'positive',\n",
              " 'positive',\n",
              " 'neutral',\n",
              " 'negative',\n",
              " 'positive',\n",
              " 'positive',\n",
              " 'neutral',\n",
              " 'positive',\n",
              " 'positive',\n",
              " 'negative',\n",
              " 'positive',\n",
              " 'positive',\n",
              " 'positive',\n",
              " 'positive',\n",
              " 'positive',\n",
              " 'neutral',\n",
              " 'neutral',\n",
              " 'positive',\n",
              " 'positive',\n",
              " 'positive',\n",
              " 'negative',\n",
              " 'negative',\n",
              " 'positive',\n",
              " 'neutral',\n",
              " 'positive',\n",
              " 'positive',\n",
              " 'negative',\n",
              " 'positive',\n",
              " 'positive',\n",
              " 'positive',\n",
              " 'neutral',\n",
              " 'neutral',\n",
              " 'positive',\n",
              " 'positive',\n",
              " 'positive',\n",
              " 'negative',\n",
              " 'positive',\n",
              " 'positive',\n",
              " 'positive',\n",
              " 'positive',\n",
              " 'positive',\n",
              " 'positive',\n",
              " 'negative',\n",
              " 'neutral',\n",
              " 'positive',\n",
              " 'negative',\n",
              " 'negative',\n",
              " 'neutral',\n",
              " 'positive',\n",
              " 'negative',\n",
              " 'negative',\n",
              " 'negative',\n",
              " 'negative',\n",
              " 'positive',\n",
              " 'negative',\n",
              " 'negative',\n",
              " 'negative',\n",
              " 'negative',\n",
              " 'negative',\n",
              " 'negative',\n",
              " 'positive',\n",
              " 'positive',\n",
              " 'negative',\n",
              " 'positive',\n",
              " 'negative',\n",
              " 'negative',\n",
              " 'positive',\n",
              " 'positive',\n",
              " 'positive',\n",
              " 'positive',\n",
              " 'positive',\n",
              " 'positive',\n",
              " 'positive',\n",
              " 'positive',\n",
              " 'positive',\n",
              " 'positive',\n",
              " 'neutral',\n",
              " 'negative',\n",
              " 'positive',\n",
              " 'positive',\n",
              " 'negative',\n",
              " 'negative',\n",
              " 'positive',\n",
              " 'negative',\n",
              " 'positive',\n",
              " 'negative',\n",
              " 'negative',\n",
              " 'positive',\n",
              " 'positive',\n",
              " 'positive',\n",
              " 'negative',\n",
              " 'negative',\n",
              " 'positive',\n",
              " 'negative',\n",
              " 'negative',\n",
              " 'positive',\n",
              " 'positive',\n",
              " 'positive',\n",
              " 'positive',\n",
              " 'positive',\n",
              " 'neutral',\n",
              " 'positive',\n",
              " 'negative',\n",
              " 'positive',\n",
              " 'positive',\n",
              " 'positive',\n",
              " 'neutral',\n",
              " 'positive',\n",
              " 'positive',\n",
              " 'positive',\n",
              " 'positive',\n",
              " 'negative',\n",
              " 'positive',\n",
              " 'positive',\n",
              " 'negative',\n",
              " 'negative',\n",
              " 'positive',\n",
              " 'conflict',\n",
              " 'neutral',\n",
              " 'negative',\n",
              " 'positive',\n",
              " 'positive',\n",
              " 'negative',\n",
              " 'positive',\n",
              " 'negative',\n",
              " 'negative',\n",
              " 'positive',\n",
              " 'negative',\n",
              " 'conflict',\n",
              " 'positive',\n",
              " 'positive',\n",
              " 'positive',\n",
              " 'negative',\n",
              " 'negative',\n",
              " 'positive',\n",
              " 'positive',\n",
              " 'negative',\n",
              " 'positive',\n",
              " 'positive',\n",
              " 'neutral',\n",
              " 'positive',\n",
              " 'positive',\n",
              " 'neutral',\n",
              " 'positive',\n",
              " 'positive',\n",
              " 'positive',\n",
              " 'positive',\n",
              " 'negative',\n",
              " 'positive',\n",
              " 'negative',\n",
              " 'neutral',\n",
              " 'negative',\n",
              " 'positive',\n",
              " 'positive',\n",
              " 'neutral',\n",
              " 'positive',\n",
              " 'positive',\n",
              " 'positive',\n",
              " 'positive',\n",
              " 'positive',\n",
              " 'positive',\n",
              " 'positive',\n",
              " 'positive',\n",
              " 'positive',\n",
              " 'negative',\n",
              " 'conflict',\n",
              " 'positive',\n",
              " 'positive',\n",
              " 'negative',\n",
              " 'positive',\n",
              " 'positive',\n",
              " 'negative',\n",
              " 'positive',\n",
              " 'positive',\n",
              " 'positive',\n",
              " 'positive',\n",
              " 'negative',\n",
              " 'positive',\n",
              " 'negative',\n",
              " 'positive',\n",
              " 'negative',\n",
              " 'neutral',\n",
              " 'positive',\n",
              " 'positive',\n",
              " 'positive',\n",
              " 'negative',\n",
              " 'positive',\n",
              " 'negative',\n",
              " 'positive',\n",
              " 'positive',\n",
              " 'positive',\n",
              " 'positive',\n",
              " 'negative',\n",
              " 'negative',\n",
              " 'positive',\n",
              " 'positive',\n",
              " 'positive',\n",
              " 'positive',\n",
              " 'negative',\n",
              " 'positive',\n",
              " 'neutral',\n",
              " 'positive',\n",
              " 'positive',\n",
              " 'negative',\n",
              " 'positive',\n",
              " 'positive',\n",
              " 'negative',\n",
              " 'positive',\n",
              " 'positive',\n",
              " 'positive',\n",
              " 'positive',\n",
              " 'positive',\n",
              " 'positive',\n",
              " 'positive',\n",
              " 'neutral',\n",
              " 'negative',\n",
              " 'positive',\n",
              " 'negative',\n",
              " 'positive',\n",
              " 'negative',\n",
              " 'positive',\n",
              " 'positive',\n",
              " 'neutral',\n",
              " 'positive',\n",
              " 'positive',\n",
              " 'positive',\n",
              " 'positive',\n",
              " 'positive',\n",
              " 'negative',\n",
              " 'negative',\n",
              " 'negative',\n",
              " 'positive',\n",
              " 'negative',\n",
              " 'positive',\n",
              " 'positive',\n",
              " 'positive',\n",
              " 'positive',\n",
              " 'positive',\n",
              " 'neutral',\n",
              " 'positive',\n",
              " 'positive',\n",
              " 'positive',\n",
              " 'positive',\n",
              " 'positive',\n",
              " 'negative',\n",
              " 'negative',\n",
              " 'positive',\n",
              " 'positive',\n",
              " 'negative',\n",
              " 'positive',\n",
              " 'neutral',\n",
              " 'positive',\n",
              " 'negative',\n",
              " 'positive',\n",
              " 'negative',\n",
              " 'positive',\n",
              " 'positive',\n",
              " 'positive',\n",
              " 'positive',\n",
              " 'neutral',\n",
              " 'positive',\n",
              " 'negative',\n",
              " 'negative',\n",
              " 'positive',\n",
              " 'negative',\n",
              " 'positive',\n",
              " 'positive',\n",
              " 'positive',\n",
              " 'negative',\n",
              " 'positive',\n",
              " 'negative',\n",
              " 'positive',\n",
              " 'positive',\n",
              " 'positive',\n",
              " 'positive',\n",
              " 'positive',\n",
              " 'positive',\n",
              " 'positive',\n",
              " 'positive',\n",
              " 'negative',\n",
              " 'positive',\n",
              " 'positive',\n",
              " 'negative',\n",
              " 'positive',\n",
              " 'positive',\n",
              " 'positive',\n",
              " 'positive',\n",
              " 'negative',\n",
              " 'positive',\n",
              " 'positive',\n",
              " 'positive',\n",
              " 'conflict',\n",
              " 'positive',\n",
              " 'positive',\n",
              " 'positive',\n",
              " 'negative',\n",
              " 'negative',\n",
              " 'positive',\n",
              " 'positive',\n",
              " 'positive',\n",
              " 'negative',\n",
              " 'negative',\n",
              " 'positive',\n",
              " 'negative',\n",
              " 'positive',\n",
              " 'positive',\n",
              " 'negative',\n",
              " 'neutral',\n",
              " 'negative',\n",
              " 'positive',\n",
              " 'positive',\n",
              " 'positive',\n",
              " 'positive',\n",
              " 'negative',\n",
              " 'positive',\n",
              " 'positive',\n",
              " 'positive',\n",
              " 'positive',\n",
              " 'negative',\n",
              " 'positive',\n",
              " 'positive',\n",
              " 'positive',\n",
              " 'positive',\n",
              " 'positive',\n",
              " 'negative',\n",
              " 'positive',\n",
              " 'positive',\n",
              " 'positive',\n",
              " 'positive',\n",
              " 'positive',\n",
              " 'positive',\n",
              " 'negative',\n",
              " 'positive',\n",
              " 'negative',\n",
              " 'positive',\n",
              " 'positive',\n",
              " 'positive',\n",
              " 'positive',\n",
              " 'negative',\n",
              " 'positive',\n",
              " 'positive',\n",
              " 'positive',\n",
              " 'positive',\n",
              " 'neutral',\n",
              " 'positive',\n",
              " 'positive',\n",
              " 'positive',\n",
              " 'positive',\n",
              " 'negative',\n",
              " 'positive',\n",
              " 'negative',\n",
              " 'conflict',\n",
              " 'neutral',\n",
              " 'negative',\n",
              " 'negative',\n",
              " 'negative',\n",
              " 'positive',\n",
              " 'negative',\n",
              " 'positive',\n",
              " 'negative',\n",
              " 'positive',\n",
              " 'neutral',\n",
              " 'negative',\n",
              " 'negative',\n",
              " 'negative',\n",
              " 'negative',\n",
              " 'neutral',\n",
              " 'neutral',\n",
              " 'negative',\n",
              " 'positive',\n",
              " 'positive',\n",
              " 'positive',\n",
              " 'positive',\n",
              " 'positive',\n",
              " 'negative',\n",
              " 'positive',\n",
              " 'negative',\n",
              " 'negative',\n",
              " 'negative',\n",
              " 'neutral',\n",
              " 'negative',\n",
              " 'negative',\n",
              " 'positive',\n",
              " 'negative',\n",
              " 'positive',\n",
              " 'negative',\n",
              " 'negative',\n",
              " 'neutral',\n",
              " 'negative',\n",
              " 'negative',\n",
              " 'negative',\n",
              " 'neutral',\n",
              " 'negative',\n",
              " 'negative',\n",
              " 'neutral',\n",
              " 'neutral',\n",
              " 'positive',\n",
              " 'negative',\n",
              " 'positive',\n",
              " 'negative',\n",
              " 'negative',\n",
              " 'negative',\n",
              " 'negative',\n",
              " 'positive',\n",
              " 'neutral',\n",
              " 'neutral',\n",
              " 'negative',\n",
              " 'neutral',\n",
              " 'positive',\n",
              " 'neutral',\n",
              " 'neutral',\n",
              " 'negative',\n",
              " 'positive',\n",
              " 'positive',\n",
              " 'positive',\n",
              " 'neutral',\n",
              " 'neutral',\n",
              " 'negative',\n",
              " 'neutral',\n",
              " 'neutral',\n",
              " 'negative',\n",
              " 'negative',\n",
              " 'positive',\n",
              " 'negative',\n",
              " 'negative',\n",
              " 'negative',\n",
              " 'neutral']"
            ]
          },
          "metadata": {
            "tags": []
          },
          "execution_count": 57
        }
      ]
    },
    {
      "cell_type": "code",
      "metadata": {
        "id": "gLyu2KrVb4E2",
        "colab_type": "code",
        "colab": {
          "base_uri": "https://localhost:8080/",
          "height": 34
        },
        "outputId": "952eac37-129b-49e9-c387-1621a9075b9d"
      },
      "source": [
        "len(polar_p)"
      ],
      "execution_count": 58,
      "outputs": [
        {
          "output_type": "execute_result",
          "data": {
            "text/plain": [
              "461"
            ]
          },
          "metadata": {
            "tags": []
          },
          "execution_count": 58
        }
      ]
    },
    {
      "cell_type": "code",
      "metadata": {
        "id": "4Co6AJBFb72_",
        "colab_type": "code",
        "colab": {
          "base_uri": "https://localhost:8080/",
          "height": 34
        },
        "outputId": "3e072728-f897-43cf-d8b5-d8182da50a77"
      },
      "source": [
        "len(test)"
      ],
      "execution_count": 59,
      "outputs": [
        {
          "output_type": "execute_result",
          "data": {
            "text/plain": [
              "461"
            ]
          },
          "metadata": {
            "tags": []
          },
          "execution_count": 59
        }
      ]
    },
    {
      "cell_type": "code",
      "metadata": {
        "id": "t_2HbNGuTAik",
        "colab_type": "code",
        "colab": {}
      },
      "source": [
        "aspect_p = a_model.predict(test_x)\n",
        "aspect_p = [index_to_aspect(np.argmax(i)) for i in aspect_p]"
      ],
      "execution_count": 60,
      "outputs": []
    },
    {
      "cell_type": "code",
      "metadata": {
        "id": "FJLHn9BlW2i2",
        "colab_type": "code",
        "colab": {
          "base_uri": "https://localhost:8080/",
          "height": 399
        },
        "outputId": "b751eda2-08bb-4f4f-d833-3ed4564fa262"
      },
      "source": [
        "nfile = pd.DataFrame()\n",
        "nfile['id'] = test['id']\n",
        "nfile['polarity'] = polar_p\n",
        "nfile['aspectCategory'] = aspect_p\n",
        "nfile.to_csv('test_pred.csv', index=None)\n",
        "nfile"
      ],
      "execution_count": 61,
      "outputs": [
        {
          "output_type": "execute_result",
          "data": {
            "text/html": [
              "<div>\n",
              "<style scoped>\n",
              "    .dataframe tbody tr th:only-of-type {\n",
              "        vertical-align: middle;\n",
              "    }\n",
              "\n",
              "    .dataframe tbody tr th {\n",
              "        vertical-align: top;\n",
              "    }\n",
              "\n",
              "    .dataframe thead th {\n",
              "        text-align: right;\n",
              "    }\n",
              "</style>\n",
              "<table border=\"1\" class=\"dataframe\">\n",
              "  <thead>\n",
              "    <tr style=\"text-align: right;\">\n",
              "      <th></th>\n",
              "      <th>id</th>\n",
              "      <th>polarity</th>\n",
              "      <th>aspectCategory</th>\n",
              "    </tr>\n",
              "  </thead>\n",
              "  <tbody>\n",
              "    <tr>\n",
              "      <th>0</th>\n",
              "      <td>899</td>\n",
              "      <td>neutral</td>\n",
              "      <td>food</td>\n",
              "    </tr>\n",
              "    <tr>\n",
              "      <th>1</th>\n",
              "      <td>1349</td>\n",
              "      <td>positive</td>\n",
              "      <td>anecdotes/miscellaneous</td>\n",
              "    </tr>\n",
              "    <tr>\n",
              "      <th>2</th>\n",
              "      <td>934</td>\n",
              "      <td>positive</td>\n",
              "      <td>food</td>\n",
              "    </tr>\n",
              "    <tr>\n",
              "      <th>3</th>\n",
              "      <td>2199</td>\n",
              "      <td>positive</td>\n",
              "      <td>food</td>\n",
              "    </tr>\n",
              "    <tr>\n",
              "      <th>4</th>\n",
              "      <td>188</td>\n",
              "      <td>negative</td>\n",
              "      <td>service</td>\n",
              "    </tr>\n",
              "    <tr>\n",
              "      <th>...</th>\n",
              "      <td>...</td>\n",
              "      <td>...</td>\n",
              "      <td>...</td>\n",
              "    </tr>\n",
              "    <tr>\n",
              "      <th>456</th>\n",
              "      <td>1063</td>\n",
              "      <td>positive</td>\n",
              "      <td>anecdotes/miscellaneous</td>\n",
              "    </tr>\n",
              "    <tr>\n",
              "      <th>457</th>\n",
              "      <td>777</td>\n",
              "      <td>negative</td>\n",
              "      <td>food</td>\n",
              "    </tr>\n",
              "    <tr>\n",
              "      <th>458</th>\n",
              "      <td>875</td>\n",
              "      <td>negative</td>\n",
              "      <td>anecdotes/miscellaneous</td>\n",
              "    </tr>\n",
              "    <tr>\n",
              "      <th>459</th>\n",
              "      <td>671</td>\n",
              "      <td>negative</td>\n",
              "      <td>food</td>\n",
              "    </tr>\n",
              "    <tr>\n",
              "      <th>460</th>\n",
              "      <td>617</td>\n",
              "      <td>neutral</td>\n",
              "      <td>anecdotes/miscellaneous</td>\n",
              "    </tr>\n",
              "  </tbody>\n",
              "</table>\n",
              "<p>461 rows × 3 columns</p>\n",
              "</div>"
            ],
            "text/plain": [
              "       id  polarity           aspectCategory\n",
              "0     899   neutral                     food\n",
              "1    1349  positive  anecdotes/miscellaneous\n",
              "2     934  positive                     food\n",
              "3    2199  positive                     food\n",
              "4     188  negative                  service\n",
              "..    ...       ...                      ...\n",
              "456  1063  positive  anecdotes/miscellaneous\n",
              "457   777  negative                     food\n",
              "458   875  negative  anecdotes/miscellaneous\n",
              "459   671  negative                     food\n",
              "460   617   neutral  anecdotes/miscellaneous\n",
              "\n",
              "[461 rows x 3 columns]"
            ]
          },
          "metadata": {
            "tags": []
          },
          "execution_count": 61
        }
      ]
    }
  ]
}